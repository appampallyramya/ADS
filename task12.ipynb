{
 "cells": [
  {
   "cell_type": "markdown",
   "id": "39d61d81",
   "metadata": {},
   "source": [
    "# reduce():-\n",
    "Function is used to apply a particular function passed in its argument to all  of the list elements\n",
    "syntax:- reduce(function,sequence)\n",
    "functools package should be imported "
   ]
  },
  {
   "cell_type": "code",
   "execution_count": 1,
   "id": "e4558ba5",
   "metadata": {},
   "outputs": [
    {
     "data": {
      "text/plain": [
       "30"
      ]
     },
     "execution_count": 1,
     "metadata": {},
     "output_type": "execute_result"
    }
   ],
   "source": [
    "import functools\n",
    "list1=[1,2,3,4,5,6,9]\n",
    "functools.reduce(lambda a,b:a+b,list1)"
   ]
  },
  {
   "cell_type": "markdown",
   "id": "e9f3b367",
   "metadata": {},
   "source": [
    "#zip():-\n",
    "function returns a zip object,which is an iterator of tuple \n",
    "syntax:-zip(iterable1,iterable2,.....)"
   ]
  },
  {
   "cell_type": "code",
   "execution_count": 2,
   "id": "f8730fa6",
   "metadata": {},
   "outputs": [
    {
     "name": "stdout",
     "output_type": "stream",
     "text": [
      "(('cherry', 'ant'), ('mango', 'cat'), ('airport', 'dog'))\n"
     ]
    }
   ],
   "source": [
    "list1=(\"cherry\",\"mango\",\"airport\")\n",
    "list2=(\"ant\",\"cat\",\"dog\")\n",
    "x=zip(list1,list2)\n",
    "print(tuple(x))"
   ]
  },
  {
   "cell_type": "markdown",
   "id": "4a7ed402",
   "metadata": {},
   "source": [
    "# enumerate():-\n",
    "adds a counter to an oterable and return it in a form of enumerating object \n",
    "synax:-(iterable,start=0)\n",
    "start- the index value from which the counter to be started ,by default it is 0"
   ]
  },
  {
   "cell_type": "code",
   "execution_count": 3,
   "id": "675b8da8",
   "metadata": {},
   "outputs": [
    {
     "name": "stdout",
     "output_type": "stream",
     "text": [
      "[(2, 'cherry'), (3, 'mango'), (4, 'airport')]\n",
      "[(3, 'ant'), (4, 'cat'), (5, 'dog')]\n"
     ]
    }
   ],
   "source": [
    "list1=(\"cherry\",\"mango\",\"airport\")\n",
    "list2=(\"ant\",\"cat\",\"dog\")\n",
    "obj1=enumerate(list1)\n",
    "obj2=enumerate(list2)\n",
    "print(list(enumerate(list1,2)))\n",
    "print(list(enumerate(list2,3)))"
   ]
  },
  {
   "cell_type": "code",
   "execution_count": null,
   "id": "1b5b4b03",
   "metadata": {},
   "outputs": [],
   "source": []
  }
 ],
 "metadata": {
  "kernelspec": {
   "display_name": "Python 3 (ipykernel)",
   "language": "python",
   "name": "python3"
  },
  "language_info": {
   "codemirror_mode": {
    "name": "ipython",
    "version": 3
   },
   "file_extension": ".py",
   "mimetype": "text/x-python",
   "name": "python",
   "nbconvert_exporter": "python",
   "pygments_lexer": "ipython3",
   "version": "3.9.7"
  }
 },
 "nbformat": 4,
 "nbformat_minor": 5
}
