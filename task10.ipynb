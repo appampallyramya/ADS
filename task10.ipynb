{
 "cells": [
  {
   "cell_type": "code",
   "execution_count": 1,
   "id": "43061d13",
   "metadata": {},
   "outputs": [
    {
     "name": "stdout",
     "output_type": "stream",
     "text": [
      "mango\n",
      "cherry\n",
      "banana\n"
     ]
    }
   ],
   "source": [
    "fruits=[\"mango\",\"cherry\",\"apple\",\"banana\"]\n",
    "for i in fruits:\n",
    "    if i==\"apple\":\n",
    "        continue\n",
    "    print(i)\n",
    "        "
   ]
  },
  {
   "cell_type": "raw",
   "id": "b14b853a",
   "metadata": {},
   "source": [
    "# In the  above example at the apple its stops the iteration and continues from next line "
   ]
  },
  {
   "cell_type": "raw",
   "id": "576dafdd",
   "metadata": {},
   "source": [
    "# the loop cannot be empty.but if you for some reasons have a for loop with no content,put in the pass statement to avoid getting error"
   ]
  },
  {
   "cell_type": "code",
   "execution_count": 2,
   "id": "f55e6374",
   "metadata": {},
   "outputs": [],
   "source": [
    "for j in [0,1,2]:\n",
    "    pass"
   ]
  },
  {
   "cell_type": "code",
   "execution_count": 7,
   "id": "ae0684a3",
   "metadata": {},
   "outputs": [
    {
     "name": "stdout",
     "output_type": "stream",
     "text": [
      "10\n",
      "9\n",
      "8\n",
      "7\n",
      "6\n",
      "5\n",
      "4\n",
      "3\n",
      "2\n",
      "1\n"
     ]
    }
   ],
   "source": [
    "i=10\n",
    "while i>=1:\n",
    "    print(i)\n",
    "    i=i- 1"
   ]
  },
  {
   "cell_type": "code",
   "execution_count": 10,
   "id": "5f5b2135",
   "metadata": {},
   "outputs": [
    {
     "name": "stdout",
     "output_type": "stream",
     "text": [
      "[1, 2, 3, 4]\n",
      "{1.1, 2.1, 2.3, 4, 5, 6}\n",
      "('cat', 'dog')\n",
      "{'brand': 'hyundai', 'model': 'creta'}\n"
     ]
    }
   ],
   "source": [
    "i=[[1,2,3,4],{1.1,2.1,2.3,4,5,6},(\"cat\",\"dog\"),{\"brand\":\"hyundai\",\"model\":\"creta\"}]\n",
    "for x in i:\n",
    "    print(x)"
   ]
  },
  {
   "cell_type": "code",
   "execution_count": null,
   "id": "2579e4e2",
   "metadata": {},
   "outputs": [],
   "source": []
  }
 ],
 "metadata": {
  "kernelspec": {
   "display_name": "Python 3 (ipykernel)",
   "language": "python",
   "name": "python3"
  },
  "language_info": {
   "codemirror_mode": {
    "name": "ipython",
    "version": 3
   },
   "file_extension": ".py",
   "mimetype": "text/x-python",
   "name": "python",
   "nbconvert_exporter": "python",
   "pygments_lexer": "ipython3",
   "version": "3.9.7"
  }
 },
 "nbformat": 4,
 "nbformat_minor": 5
}
