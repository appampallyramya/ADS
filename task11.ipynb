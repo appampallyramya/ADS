{
 "cells": [
  {
   "cell_type": "raw",
   "id": "0a3d6e33",
   "metadata": {},
   "source": [
    "#code using return keyword\n",
    "#return keyword can be used to return values from a function"
   ]
  },
  {
   "cell_type": "code",
   "execution_count": 1,
   "id": "c62ab30d",
   "metadata": {},
   "outputs": [
    {
     "name": "stdout",
     "output_type": "stream",
     "text": [
      "20\n",
      "25\n"
     ]
    }
   ],
   "source": [
    "def mult(i):\n",
    "    return 5 * i\n",
    "print(mult(4))\n",
    "print(mult(5))"
   ]
  },
  {
   "cell_type": "raw",
   "id": "08afd666",
   "metadata": {},
   "source": [
    "#Ask 2 numbers from users and store it in num1 and num2\n",
    "#Ask user to press 1 for addition,2 for subtraction,3 for multiplication and 4 for division\n",
    "#create 4 seperate functions for each operation (i.e. addition,subtraction,multiplication and division)\n",
    "#based on number given by user,call that perticular function and print the output\n",
    " "
   ]
  },
  {
   "cell_type": "code",
   "execution_count": 8,
   "id": "6cbefcb6",
   "metadata": {},
   "outputs": [
    {
     "name": "stdout",
     "output_type": "stream",
     "text": [
      "enter first value22\n",
      "enter second value33\n",
      "press 1 for addition,press 2 for substraction,press 3 for multiplication, press 4 for division3\n",
      "726\n"
     ]
    }
   ],
   "source": [
    "x=int(input(\"enter first value\"))\n",
    "y=int(input(\"enter second value\"))\n",
    "k=int(input(\"press 1 for addition,press 2 for substraction,press 3 for multiplication, press 4 for division\"))\n",
    "if(k==1):\n",
    "    add()\n",
    "elif(k==2):\n",
    "    sub()\n",
    "elif(k==3):\n",
    "    mul()\n",
    "elif(k==4):\n",
    "    div()\n",
    "else:\n",
    "    print(\"invalid\")\n",
    "def add():\n",
    "    z=x+y\n",
    "    print(z)\n",
    "def sub():\n",
    "    z=x-y\n",
    "    print(z)\n",
    "def mul():\n",
    "    z=x*y\n",
    "    print(z)\n",
    "def div():\n",
    "    z=x/y\n",
    "    print(z)\n"
   ]
  },
  {
   "cell_type": "code",
   "execution_count": null,
   "id": "2c53aef3",
   "metadata": {},
   "outputs": [],
   "source": []
  }
 ],
 "metadata": {
  "kernelspec": {
   "display_name": "Python 3 (ipykernel)",
   "language": "python",
   "name": "python3"
  },
  "language_info": {
   "codemirror_mode": {
    "name": "ipython",
    "version": 3
   },
   "file_extension": ".py",
   "mimetype": "text/x-python",
   "name": "python",
   "nbconvert_exporter": "python",
   "pygments_lexer": "ipython3",
   "version": "3.9.7"
  }
 },
 "nbformat": 4,
 "nbformat_minor": 5
}
