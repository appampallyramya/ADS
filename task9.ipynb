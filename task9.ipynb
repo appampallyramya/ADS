{
 "cells": [
  {
   "cell_type": "code",
   "execution_count": 1,
   "id": "b6448db7",
   "metadata": {},
   "outputs": [
    {
     "name": "stdout",
     "output_type": "stream",
     "text": [
      "1st number:12\n",
      "2nd number:10\n",
      "press 1 for addition, press 2 for substraction,press 3 for multiplication,press 4 for division2\n",
      "answer: 2\n"
     ]
    }
   ],
   "source": [
    "num1=int(input(\"1st number:\"))\n",
    "num2=int(input(\"2nd number:\"))\n",
    "num3=int(input(\"press 1 for addition, press 2 for substraction,press 3 for multiplication,press 4 for division\"))\n",
    "addition= num1+num2\n",
    "substraction=num1-num2\n",
    "multiplication=num1*num2\n",
    "division=num1/num2\n",
    "if(num3==1):\n",
    "          print(\"answer:\",addition)\n",
    "elif(num3==2):\n",
    "     print(\"answer:\",substraction)\n",
    "elif(num3==3):\n",
    "     print(\"answer:\",multiplication)\n",
    "elif(num3==4):\n",
    "    print(\"answer:\",division)\n",
    "else:\n",
    "    print(\" enter the number is invalid\")"
   ]
  },
  {
   "cell_type": "code",
   "execution_count": null,
   "id": "7c1b097b",
   "metadata": {},
   "outputs": [],
   "source": []
  }
 ],
 "metadata": {
  "kernelspec": {
   "display_name": "Python 3 (ipykernel)",
   "language": "python",
   "name": "python3"
  },
  "language_info": {
   "codemirror_mode": {
    "name": "ipython",
    "version": 3
   },
   "file_extension": ".py",
   "mimetype": "text/x-python",
   "name": "python",
   "nbconvert_exporter": "python",
   "pygments_lexer": "ipython3",
   "version": "3.9.7"
  }
 },
 "nbformat": 4,
 "nbformat_minor": 5
}
