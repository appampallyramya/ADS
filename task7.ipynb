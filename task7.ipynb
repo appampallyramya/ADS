{
 "cells": [
  {
   "cell_type": "code",
   "execution_count": 2,
   "id": "020ebdd3",
   "metadata": {},
   "outputs": [
    {
     "name": "stdout",
     "output_type": "stream",
     "text": [
      "{'cherry', 'mango'}\n"
     ]
    }
   ],
   "source": [
    "a={\"apple\",\"mango\",\"cherry\"}\n",
    "b={\"google\",\"microsoft\",\"apple\"}\n",
    "setc=a.difference(b)\n",
    "print(setc)"
   ]
  },
  {
   "cell_type": "code",
   "execution_count": 3,
   "id": "ae6129b6",
   "metadata": {},
   "outputs": [
    {
     "name": "stdout",
     "output_type": "stream",
     "text": [
      "{'cherry', 'microsoft', 'mango', 'google'}\n"
     ]
    }
   ],
   "source": [
    "setc=a.symmetric_difference(b)\n",
    "print(setc)"
   ]
  }
 ],
 "metadata": {
  "kernelspec": {
   "display_name": "Python 3 (ipykernel)",
   "language": "python",
   "name": "python3"
  },
  "language_info": {
   "codemirror_mode": {
    "name": "ipython",
    "version": 3
   },
   "file_extension": ".py",
   "mimetype": "text/x-python",
   "name": "python",
   "nbconvert_exporter": "python",
   "pygments_lexer": "ipython3",
   "version": "3.9.7"
  }
 },
 "nbformat": 4,
 "nbformat_minor": 5
}
